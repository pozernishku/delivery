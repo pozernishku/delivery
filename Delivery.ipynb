{
 "cells": [
  {
   "cell_type": "code",
   "execution_count": 8,
   "metadata": {},
   "outputs": [],
   "source": [
    "import os, json\n",
    "import io\n",
    "from delivery.read_data import convert_pdf_to_txt"
   ]
  },
  {
   "cell_type": "code",
   "execution_count": 11,
   "metadata": {
    "scrolled": false
   },
   "outputs": [
    {
     "name": "stdout",
     "output_type": "stream",
     "text": [
      "Sender :\n",
      "\n",
      "WWW CLEANING SUPPLIES\n",
      "2/37-39 RICKETTS ROAD\n",
      "\n",
      "Receiver :\n",
      "\n",
      "Phone: \n",
      "Instr uctions:\n",
      "\n",
      "MOUNT WAVERLEY \n",
      "03 9544 6570\n",
      "\n",
      "3149\n",
      "\n",
      "Ian Loney Mechanical Consultan\n",
      "25 Peal Place\n",
      "\n",
      "7052 H\n",
      "\n",
      "BLACKMANS BAY \n",
      "0362295290\n",
      "\n",
      "Date: \n",
      "Item Description: \n",
      "Item Reference:\n",
      "1 of 1 items \n",
      "\n",
      "03/06/2019\n",
      "Tube \n",
      "\n",
      "Consignment Note:\n",
      "Service:\n",
      "\n",
      "XX456852\n",
      "Road Freight\n",
      "\n",
      "*** ATL ***\n",
      "\n",
      "Total dead weight: \n",
      "\n",
      "2 kg \n",
      "\n",
      "Item dead weight: \n",
      "\n",
      "2 kg\n",
      "\n",
      "Charge: P00277\n",
      "\n",
      "B\n",
      "A\n",
      "\n",
      "Sender :\n",
      "\n",
      "WWW CLEANING SUPPLIES\n",
      "2/37-39 RICKETTS ROAD\n",
      "\n",
      "Receiver :\n",
      "\n",
      "Phone: \n",
      "Instr uctions:\n",
      "\n",
      "MOUNT WAVERLEY \n",
      "03 9544 6570\n",
      "\n",
      "3149\n",
      "\n",
      "Ian Loney Mechanical Consultan\n",
      "25 Peal Place\n",
      "\n",
      "7052 H\n",
      "\n",
      "BLACKMANS BAY \n",
      "0362295290\n",
      "\n",
      "Date: \n",
      "Item Description: \n",
      "Item Reference:\n",
      "1 of 1 items \n",
      "\n",
      "03/06/2019\n",
      "Tube \n",
      "\n",
      "Consignment Note:\n",
      "Service:\n",
      "\n",
      "XX456852\n",
      "Road Freight\n",
      "\n",
      "*** ATL ***\n",
      "\n",
      "Total dead weight: \n",
      "\n",
      "2 kg \n",
      "\n",
      "Item dead weight: \n",
      "\n",
      "2 kg\n",
      "\n",
      "Charge: P00277\n",
      "\n",
      "B\n",
      "A\n",
      "\n",
      "Sender :\n",
      "\n",
      "Phone: \n",
      "Instr uctions:\n",
      "\n",
      "Date: \n",
      "Item Description: \n",
      "Item Reference:\n",
      "1 of 1 items \n",
      "\n",
      "WWW CLEANING SUPPLIES Receiver :\n",
      "2/37-39 RICKETTS ROAD\n",
      "\n",
      "Ian Loney Mechanical Consultan\n",
      "25 Peal Place\n",
      "\n",
      "MOUNT WAVERLEY \n",
      "03 9544 6570\n",
      "\n",
      "3149\n",
      "\n",
      "BLACKMANS BAY \n",
      "0362295290\n",
      "\n",
      "7052\n",
      "\n",
      "03/06/2019\n",
      "Tube \n",
      "\n",
      "Consignment Note:XX456852\n",
      "Service:\n",
      "\n",
      "Road Freight\n",
      "\n",
      "*** ATL ***\n",
      "\n",
      "Total dead weight: \n",
      "\n",
      "2 kg \n",
      "\n",
      "Item dead weight:  2 kg\n",
      "\n",
      "ATL: DELIVERY DRIVER MUST NOTE A DESCRIPTION OF WHERE THE ITEM(S) ARE LEFT\n",
      "\n",
      "Section 1: Detach - This is your copyCustomer Service: enquiries@e-go.com.auSection 2: Attach to the itemCustomer Service: enquiries@e-go.com.auSection 3Customer Service: enquiries@e-go.com.auI hereby declare that this shipment does not contain dangerous goods. Subject to the Terms and Conditions of contract and the Carrier's Proposal of Rates and Services, please accept the goods described above for delivery. WE ARE NOT A COMMON CARRIER.Sender's Signature:I hereby declare that this shipment does not contain dangerous goods. Subject to the Terms and Conditions of contract and the Carrier's Proposal of Rates and Services, please accept the goods described above for delivery. WE ARE NOT A COMMON CARRIER.Sender's Signature:SENDERSCOPYWE ARE NOT A COMMON CARRIERRECE IVERSCOPY(Please Print Surname)(Receiver's Signature)(Date and Time)PROOF OF DELIVERY COPYLeave this section loose. Do not tape or glue down. The delivery driver will use this to obtain a signature from the receiver.Items Received in Good Order and Condition:\f",
      "\n"
     ]
    }
   ],
   "source": [
    "with open('XX456852.pdf', 'rb') as f: # XX456850.pdf\n",
    "    bytesio = io.BytesIO(f.read())\n",
    "    bfr = io.BufferedReader(bytesio)\n",
    "    doc_pdf_text = convert_pdf_to_txt(bfr)\n",
    "    print(doc_pdf_text)"
   ]
  },
  {
   "cell_type": "code",
   "execution_count": null,
   "metadata": {
    "collapsed": true
   },
   "outputs": [],
   "source": []
  },
  {
   "cell_type": "code",
   "execution_count": null,
   "metadata": {
    "collapsed": true
   },
   "outputs": [],
   "source": [
    "import telegram"
   ]
  },
  {
   "cell_type": "code",
   "execution_count": null,
   "metadata": {
    "collapsed": true
   },
   "outputs": [],
   "source": [
    "dir(telegram)"
   ]
  },
  {
   "cell_type": "code",
   "execution_count": null,
   "metadata": {
    "collapsed": true
   },
   "outputs": [],
   "source": []
  },
  {
   "cell_type": "code",
   "execution_count": null,
   "metadata": {
    "collapsed": true
   },
   "outputs": [],
   "source": []
  },
  {
   "cell_type": "code",
   "execution_count": null,
   "metadata": {
    "collapsed": true
   },
   "outputs": [],
   "source": []
  }
 ],
 "metadata": {
  "kernelspec": {
   "display_name": "Python [default]",
   "language": "python",
   "name": "python3"
  },
  "language_info": {
   "codemirror_mode": {
    "name": "ipython",
    "version": 3
   },
   "file_extension": ".py",
   "mimetype": "text/x-python",
   "name": "python",
   "nbconvert_exporter": "python",
   "pygments_lexer": "ipython3",
   "version": "3.6.7"
  }
 },
 "nbformat": 4,
 "nbformat_minor": 2
}
