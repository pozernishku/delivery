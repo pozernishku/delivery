{
 "cells": [
  {
   "cell_type": "code",
   "execution_count": 16,
   "metadata": {
    "collapsed": true
   },
   "outputs": [],
   "source": [
    "import os\n",
    "import ast"
   ]
  },
  {
   "cell_type": "code",
   "execution_count": 8,
   "metadata": {},
   "outputs": [],
   "source": [
    "from scrapy.utils.project import data_path"
   ]
  },
  {
   "cell_type": "code",
   "execution_count": 9,
   "metadata": {
    "collapsed": true
   },
   "outputs": [],
   "source": [
    "filename = 'data.txt'"
   ]
  },
  {
   "cell_type": "code",
   "execution_count": 10,
   "metadata": {
    "collapsed": true
   },
   "outputs": [],
   "source": [
    "mydata_path = data_path(filename)"
   ]
  },
  {
   "cell_type": "code",
   "execution_count": 11,
   "metadata": {},
   "outputs": [
    {
     "data": {
      "text/plain": [
       "'/Users/zackushka/Documents/delivery/.scrapy/data.txt'"
      ]
     },
     "execution_count": 11,
     "metadata": {},
     "output_type": "execute_result"
    }
   ],
   "source": [
    "mydata_path"
   ]
  },
  {
   "cell_type": "code",
   "execution_count": 15,
   "metadata": {},
   "outputs": [],
   "source": [
    "if os.path.exists(mydata_path) and os.path.getsize(mydata_path) > 0:\n",
    "    with open(mydata_path, 'r') as f:\n",
    "        canned_cookie_jar = f.read()\n",
    "        cookies_to_send = ast.literal_eval(canned_cookie_jar)\n",
    "        print(canned_cookie_jar, cookies_to_send, ast)"
   ]
  },
  {
   "cell_type": "code",
   "execution_count": null,
   "metadata": {
    "collapsed": true
   },
   "outputs": [],
   "source": [
    "yield scrapy.Request(url='<SOME_URL>', callback=self.parse, cookies=cookies_to_send,)"
   ]
  },
  {
   "cell_type": "code",
   "execution_count": null,
   "metadata": {
    "collapsed": true
   },
   "outputs": [],
   "source": []
  },
  {
   "cell_type": "code",
   "execution_count": null,
   "metadata": {
    "collapsed": true
   },
   "outputs": [],
   "source": []
  },
  {
   "cell_type": "code",
   "execution_count": null,
   "metadata": {
    "collapsed": true
   },
   "outputs": [],
   "source": [
    "s = '''\n",
    "Worth The Weight Studio\n",
    "22 Malsbur y Road\n",
    "\n",
    "HORNSBY \n",
    "0407640754\n",
    "\n",
    "\"Style My Home\n",
    "769 PACIFIC HIGHWAY\n",
    "CHATSWOOD\n",
    "CHATSWOOD \n",
    "+4(13)00016131w\n",
    "2067\"\n",
    "\n",
    "\"Hor izon Line Canoes\n",
    "69 Great Wester n HIghway\n",
    "\n",
    "EMU PLAINS\n",
    "+44247352120\"\n",
    "\"East Ryde Cellars\n",
    "1 sager place\n",
    "\n",
    "EAST RYDE \n",
    "\n",
    "\"02 (988)93997\"\"\n",
    "'''"
   ]
  },
  {
   "cell_type": "code",
   "execution_count": null,
   "metadata": {
    "collapsed": true
   },
   "outputs": [],
   "source": [
    "import re, os"
   ]
  },
  {
   "cell_type": "code",
   "execution_count": null,
   "metadata": {
    "collapsed": true
   },
   "outputs": [],
   "source": [
    "rx = re.compile(r'.*\\d{5,}.*', re.MULTILINE)"
   ]
  },
  {
   "cell_type": "code",
   "execution_count": null,
   "metadata": {
    "collapsed": true
   },
   "outputs": [],
   "source": [
    "print(rx.sub('', s).replace(os.linesep+os.linesep, os.linesep))"
   ]
  },
  {
   "cell_type": "code",
   "execution_count": null,
   "metadata": {
    "collapsed": true
   },
   "outputs": [],
   "source": []
  },
  {
   "cell_type": "code",
   "execution_count": null,
   "metadata": {
    "collapsed": true
   },
   "outputs": [],
   "source": [
    "# coding=utf8\n",
    "# the above tag defines encoding for this document and is for Python 2.x compatibility\n",
    "\n",
    "import re\n",
    "\n",
    "regex = r\".*\\d{5,}.*\"\n",
    "\n",
    "test_str = (\"Worth The Weight Studio\\n\"\n",
    "\t\"22 Malsbur y Road\\n\\n\"\n",
    "\t\"HORNSBY \\n\"\n",
    "\t\"0407640754\\n\\n\"\n",
    "\t\"\\\"Style My Home\\n\"\n",
    "\t\"769 PACIFIC HIGHWAY\\n\"\n",
    "\t\"CHATSWOOD\\n\"\n",
    "\t\"CHATSWOOD \\n\"\n",
    "\t\"+4(13)00016131w\\n\"\n",
    "\t\"2067\\\"\\n\\n\"\n",
    "\t\"\\\"Hor izon Line Canoes\\n\"\n",
    "\t\"69 Great Wester n HIghway\\n\\n\"\n",
    "\t\"EMU PLAINS\\n\"\n",
    "\t\"+44247352120\\\"\\n\"\n",
    "\t\"\\\"East Ryde Cellars\\n\"\n",
    "\t\"1 sager place\\n\\n\"\n",
    "\t\"EAST RYDE \\n\\n\"\n",
    "\t\"\\\"02 (988)93997\\\"\\\"\")\n",
    "\n",
    "matches = re.finditer(regex, test_str, re.MULTILINE)\n",
    "\n",
    "for matchNum, match in enumerate(matches, start=1):\n",
    "    \n",
    "    print (\"Match {matchNum} was found at {start}-{end}: {match}\".format(matchNum = matchNum, start = match.start(), end = match.end(), match = match.group()))\n",
    "    \n",
    "    for groupNum in range(0, len(match.groups())):\n",
    "        groupNum = groupNum + 1\n",
    "        \n",
    "        print (\"Group {groupNum} found at {start}-{end}: {group}\".format(groupNum = groupNum, start = match.start(groupNum), end = match.end(groupNum), group = match.group(groupNum)))\n",
    "\n",
    "# Note: for Python 2.7 compatibility, use ur\"\" to prefix the regex and u\"\" to prefix the test string and substitution.\n"
   ]
  },
  {
   "cell_type": "code",
   "execution_count": null,
   "metadata": {
    "collapsed": true
   },
   "outputs": [],
   "source": []
  },
  {
   "cell_type": "code",
   "execution_count": null,
   "metadata": {
    "collapsed": true
   },
   "outputs": [],
   "source": [
    "import os, json\n",
    "import io\n",
    "from delivery.read_data import convert_pdf_to_txt"
   ]
  },
  {
   "cell_type": "code",
   "execution_count": null,
   "metadata": {
    "collapsed": true,
    "scrolled": false
   },
   "outputs": [],
   "source": [
    "with open('XX456939.pdf', 'rb') as f: # XX456850.pdf\n",
    "    bytesio = io.BytesIO(f.read())\n",
    "    bfr = io.BufferedReader(bytesio)\n",
    "    doc_pdf_text = convert_pdf_to_txt(bfr)\n",
    "    print(doc_pdf_text)"
   ]
  },
  {
   "cell_type": "code",
   "execution_count": null,
   "metadata": {
    "collapsed": true
   },
   "outputs": [],
   "source": []
  },
  {
   "cell_type": "code",
   "execution_count": null,
   "metadata": {
    "collapsed": true
   },
   "outputs": [],
   "source": [
    "import telegram"
   ]
  },
  {
   "cell_type": "code",
   "execution_count": null,
   "metadata": {
    "collapsed": true
   },
   "outputs": [],
   "source": [
    "dir(telegram)"
   ]
  },
  {
   "cell_type": "code",
   "execution_count": null,
   "metadata": {
    "collapsed": true
   },
   "outputs": [],
   "source": []
  }
 ],
 "metadata": {
  "kernelspec": {
   "display_name": "Python [default]",
   "language": "python",
   "name": "python3"
  },
  "language_info": {
   "codemirror_mode": {
    "name": "ipython",
    "version": 3
   },
   "file_extension": ".py",
   "mimetype": "text/x-python",
   "name": "python",
   "nbconvert_exporter": "python",
   "pygments_lexer": "ipython3",
   "version": "3.6.7"
  }
 },
 "nbformat": 4,
 "nbformat_minor": 2
}
